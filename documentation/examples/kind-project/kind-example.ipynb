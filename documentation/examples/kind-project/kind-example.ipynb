{
 "cells": [
  {
   "cell_type": "markdown",
   "metadata": {},
   "source": [
    "# Fogify + Kind "
   ]
  },
  {
   "cell_type": "markdown",
   "metadata": {},
   "source": [
    "## Import FogifySDK, connect with controller, and import \"fogified\" `docker-compose` file"
   ]
  },
  {
   "cell_type": "code",
   "execution_count": 1,
   "metadata": {},
   "outputs": [],
   "source": [
    "from FogifySDK import FogifySDK\n",
    "fogify = FogifySDK(\"http://controller:5000\", \"kind-docker-compose.yaml\")"
   ]
  },
  {
   "cell_type": "markdown",
   "metadata": {},
   "source": [
    "## Deploy the topology\n",
    "While the system deploys the topology, a progress bar illustrates the current status."
   ]
  },
  {
   "cell_type": "code",
   "execution_count": 2,
   "metadata": {},
   "outputs": [
    {
     "name": "stderr",
     "output_type": "stream",
     "text": [
      "Deploy process: 100%|██████████| 4/4 [00:10<00:00,  2.53s/it]\n"
     ]
    },
    {
     "data": {
      "text/plain": [
       "{'message': \"The services are deployed ( {'control-plane': 1, 'worker-0': 1, 'worker-1': 1, 'worker-2': 1} )\"}"
      ]
     },
     "execution_count": 2,
     "metadata": {},
     "output_type": "execute_result"
    }
   ],
   "source": [
    "fogify.deploy()"
   ]
  },
  {
   "cell_type": "markdown",
   "metadata": {},
   "source": [
    "## Retrieve the monitoring metrics from running instances\n",
    "Fogify allows users to retrieve monitoring metrics in `pandas` dataframes.\n",
    "The latter helps in depicting:"
   ]
  },
  {
   "cell_type": "markdown",
   "metadata": {},
   "source": [
    "### Tables of values"
   ]
  },
  {
   "cell_type": "code",
   "execution_count": 3,
   "metadata": {},
   "outputs": [
    {
     "data": {
      "text/html": [
       "<div>\n",
       "<style scoped>\n",
       "    .dataframe tbody tr th:only-of-type {\n",
       "        vertical-align: middle;\n",
       "    }\n",
       "\n",
       "    .dataframe tbody tr th {\n",
       "        vertical-align: top;\n",
       "    }\n",
       "\n",
       "    .dataframe thead th {\n",
       "        text-align: right;\n",
       "    }\n",
       "</style>\n",
       "<table border=\"1\" class=\"dataframe\">\n",
       "  <thead>\n",
       "    <tr style=\"text-align: right;\">\n",
       "      <th></th>\n",
       "      <th>cpu_util</th>\n",
       "      <th>cpu</th>\n",
       "      <th>memory</th>\n",
       "      <th>memory_util</th>\n",
       "      <th>disk_bytes</th>\n",
       "      <th>network_rx_internet</th>\n",
       "      <th>network_tx_internet</th>\n",
       "      <th>count</th>\n",
       "    </tr>\n",
       "    <tr>\n",
       "      <th>timestamp</th>\n",
       "      <th></th>\n",
       "      <th></th>\n",
       "      <th></th>\n",
       "      <th></th>\n",
       "      <th></th>\n",
       "      <th></th>\n",
       "      <th></th>\n",
       "      <th></th>\n",
       "    </tr>\n",
       "  </thead>\n",
       "  <tbody>\n",
       "    <tr>\n",
       "      <th>2021-01-23 11:07:38</th>\n",
       "      <td>0.000000</td>\n",
       "      <td>3.145855e+07</td>\n",
       "      <td>3.538944e+06</td>\n",
       "      <td>0.082397</td>\n",
       "      <td>0.0</td>\n",
       "      <td>0.0</td>\n",
       "      <td>0.0</td>\n",
       "      <td>0</td>\n",
       "    </tr>\n",
       "    <tr>\n",
       "      <th>2021-01-23 11:07:44</th>\n",
       "      <td>24.016486</td>\n",
       "      <td>4.481727e+09</td>\n",
       "      <td>1.382687e+08</td>\n",
       "      <td>3.219318</td>\n",
       "      <td>102400.0</td>\n",
       "      <td>0.0</td>\n",
       "      <td>0.0</td>\n",
       "      <td>1</td>\n",
       "    </tr>\n",
       "    <tr>\n",
       "      <th>2021-01-23 11:07:50</th>\n",
       "      <td>7.260809</td>\n",
       "      <td>5.930015e+09</td>\n",
       "      <td>1.844470e+08</td>\n",
       "      <td>4.294491</td>\n",
       "      <td>102400.0</td>\n",
       "      <td>0.0</td>\n",
       "      <td>0.0</td>\n",
       "      <td>2</td>\n",
       "    </tr>\n",
       "    <tr>\n",
       "      <th>2021-01-23 11:07:56</th>\n",
       "      <td>30.121868</td>\n",
       "      <td>1.167641e+10</td>\n",
       "      <td>6.827909e+08</td>\n",
       "      <td>15.897465</td>\n",
       "      <td>102400.0</td>\n",
       "      <td>0.0</td>\n",
       "      <td>0.0</td>\n",
       "      <td>3</td>\n",
       "    </tr>\n",
       "    <tr>\n",
       "      <th>2021-01-23 11:07:59</th>\n",
       "      <td>41.697557</td>\n",
       "      <td>1.692180e+10</td>\n",
       "      <td>9.839698e+08</td>\n",
       "      <td>22.909832</td>\n",
       "      <td>102400.0</td>\n",
       "      <td>0.0</td>\n",
       "      <td>0.0</td>\n",
       "      <td>4</td>\n",
       "    </tr>\n",
       "    <tr>\n",
       "      <th>2021-01-23 11:08:06</th>\n",
       "      <td>12.308998</td>\n",
       "      <td>1.943361e+10</td>\n",
       "      <td>9.693102e+08</td>\n",
       "      <td>22.568512</td>\n",
       "      <td>102400.0</td>\n",
       "      <td>4692.0</td>\n",
       "      <td>14381.0</td>\n",
       "      <td>5</td>\n",
       "    </tr>\n",
       "    <tr>\n",
       "      <th>2021-01-23 11:08:11</th>\n",
       "      <td>14.362977</td>\n",
       "      <td>2.200741e+10</td>\n",
       "      <td>1.067930e+09</td>\n",
       "      <td>24.864674</td>\n",
       "      <td>102400.0</td>\n",
       "      <td>5454.0</td>\n",
       "      <td>21650.0</td>\n",
       "      <td>6</td>\n",
       "    </tr>\n",
       "    <tr>\n",
       "      <th>2021-01-23 11:08:16</th>\n",
       "      <td>16.974911</td>\n",
       "      <td>2.467483e+10</td>\n",
       "      <td>1.153040e+09</td>\n",
       "      <td>26.846313</td>\n",
       "      <td>102400.0</td>\n",
       "      <td>6186.0</td>\n",
       "      <td>28745.0</td>\n",
       "      <td>7</td>\n",
       "    </tr>\n",
       "    <tr>\n",
       "      <th>2021-01-23 11:08:22</th>\n",
       "      <td>7.974813</td>\n",
       "      <td>2.618435e+10</td>\n",
       "      <td>1.156682e+09</td>\n",
       "      <td>26.931095</td>\n",
       "      <td>102400.0</td>\n",
       "      <td>6918.0</td>\n",
       "      <td>35840.0</td>\n",
       "      <td>8</td>\n",
       "    </tr>\n",
       "  </tbody>\n",
       "</table>\n",
       "</div>"
      ],
      "text/plain": [
       "                      cpu_util           cpu        memory  memory_util  \\\n",
       "timestamp                                                                 \n",
       "2021-01-23 11:07:38   0.000000  3.145855e+07  3.538944e+06     0.082397   \n",
       "2021-01-23 11:07:44  24.016486  4.481727e+09  1.382687e+08     3.219318   \n",
       "2021-01-23 11:07:50   7.260809  5.930015e+09  1.844470e+08     4.294491   \n",
       "2021-01-23 11:07:56  30.121868  1.167641e+10  6.827909e+08    15.897465   \n",
       "2021-01-23 11:07:59  41.697557  1.692180e+10  9.839698e+08    22.909832   \n",
       "2021-01-23 11:08:06  12.308998  1.943361e+10  9.693102e+08    22.568512   \n",
       "2021-01-23 11:08:11  14.362977  2.200741e+10  1.067930e+09    24.864674   \n",
       "2021-01-23 11:08:16  16.974911  2.467483e+10  1.153040e+09    26.846313   \n",
       "2021-01-23 11:08:22   7.974813  2.618435e+10  1.156682e+09    26.931095   \n",
       "\n",
       "                     disk_bytes  network_rx_internet  network_tx_internet  \\\n",
       "timestamp                                                                   \n",
       "2021-01-23 11:07:38         0.0                  0.0                  0.0   \n",
       "2021-01-23 11:07:44    102400.0                  0.0                  0.0   \n",
       "2021-01-23 11:07:50    102400.0                  0.0                  0.0   \n",
       "2021-01-23 11:07:56    102400.0                  0.0                  0.0   \n",
       "2021-01-23 11:07:59    102400.0                  0.0                  0.0   \n",
       "2021-01-23 11:08:06    102400.0               4692.0              14381.0   \n",
       "2021-01-23 11:08:11    102400.0               5454.0              21650.0   \n",
       "2021-01-23 11:08:16    102400.0               6186.0              28745.0   \n",
       "2021-01-23 11:08:22    102400.0               6918.0              35840.0   \n",
       "\n",
       "                     count  \n",
       "timestamp                   \n",
       "2021-01-23 11:07:38      0  \n",
       "2021-01-23 11:07:44      1  \n",
       "2021-01-23 11:07:50      2  \n",
       "2021-01-23 11:07:56      3  \n",
       "2021-01-23 11:07:59      4  \n",
       "2021-01-23 11:08:06      5  \n",
       "2021-01-23 11:08:11      6  \n",
       "2021-01-23 11:08:16      7  \n",
       "2021-01-23 11:08:22      8  "
      ]
     },
     "execution_count": 3,
     "metadata": {},
     "output_type": "execute_result"
    }
   ],
   "source": [
    "fogify.get_metrics_from('control-plane_1')"
   ]
  },
  {
   "cell_type": "markdown",
   "metadata": {},
   "source": [
    "### Differences in out-going network data size"
   ]
  },
  {
   "cell_type": "code",
   "execution_count": 4,
   "metadata": {},
   "outputs": [
    {
     "data": {
      "text/plain": [
       "<matplotlib.axes._subplots.AxesSubplot at 0x7fddba7065d0>"
      ]
     },
     "execution_count": 4,
     "metadata": {},
     "output_type": "execute_result"
    },
    {
     "data": {
      "image/png": "[encoded data removed]",
      "text/plain": [
       "<Figure size 432x288 with 1 Axes>"
      ]
     },
     "metadata": {
      "needs_background": "light"
     },
     "output_type": "display_data"
    }
   ],
   "source": [
    "fogify.get_metrics_from('worker-0_1').network_tx_internet.diff().plot()\n",
    "fogify.get_metrics_from('worker-1_1').network_tx_internet.diff().plot()\n",
    "fogify.get_metrics_from('worker-2_1').network_tx_internet.diff().plot()"
   ]
  },
  {
   "cell_type": "markdown",
   "metadata": {},
   "source": [
    "### Timelines"
   ]
  },
  {
   "cell_type": "code",
   "execution_count": 5,
   "metadata": {},
   "outputs": [
    {
     "data": {
      "text/plain": [
       "<matplotlib.axes._subplots.AxesSubplot at 0x7fddbab856d0>"
      ]
     },
     "execution_count": 5,
     "metadata": {},
     "output_type": "execute_result"
    },
    {
     "data": {
      "image/png": "[encoded data removed]",
      "text/plain": [
       "<Figure size 432x288 with 1 Axes>"
      ]
     },
     "metadata": {
      "needs_background": "light"
     },
     "output_type": "display_data"
    }
   ],
   "source": [
    "fogify.get_metrics_from('worker-0_1').cpu_util.plot()"
   ]
  },
  {
   "cell_type": "markdown",
   "metadata": {},
   "source": [
    "### Update link connectivity \n",
    "We can update the connectivity between two nodes at run-time through the `update_link` function. The following command will inject to the (`worker-1`,`control-plane`) link a `50ms` network delay at uplink and `50ms` downlink in both nodes (`bidirectional=true`). So at the end, the `rtt` between these nodes will be `200ms`."
   ]
  },
  {
   "cell_type": "code",
   "execution_count": 6,
   "metadata": {},
   "outputs": [
    {
     "data": {
      "text/plain": [
       "{'worker-1': {'message': 'OK'}, 'control-plane': {'message': 'OK'}}"
      ]
     },
     "execution_count": 6,
     "metadata": {},
     "output_type": "execute_result"
    }
   ],
   "source": [
    "fogify.update_link('internet', 'worker-1', 'control-plane',{'uplink':{'latency':{'delay': '50ms'}}, 'downlink':{'latency':{'delay': '50ms'}}}, True)"
   ]
  },
  {
   "cell_type": "markdown",
   "metadata": {},
   "source": [
    "## Undeploy\n",
    "Finally, the FogifySDK provides the `undeploy` method that destroys the emulated infrastructure."
   ]
  },
  {
   "cell_type": "code",
   "execution_count": 7,
   "metadata": {},
   "outputs": [
    {
     "name": "stderr",
     "output_type": "stream",
     "text": [
      "Undeploy process: 100%|██████████| 4/4 [00:25<00:00,  6.36s/it]\n"
     ]
    },
    {
     "data": {
      "text/plain": [
       "{'message': 'The 4 services are undeployed'}"
      ]
     },
     "execution_count": 7,
     "metadata": {},
     "output_type": "execute_result"
    }
   ],
   "source": [
    "fogify.undeploy()"
   ]
  }
 ],
 "metadata": {
  "kernelspec": {
   "display_name": "Python 3",
   "language": "python",
   "name": "python3"
  },
  "language_info": {
   "codemirror_mode": {
    "name": "ipython",
    "version": 3
   },
   "file_extension": ".py",
   "mimetype": "text/x-python",
   "name": "python",
   "nbconvert_exporter": "python",
   "pygments_lexer": "ipython3",
   "version": "3.7.6"
  }
 },
 "nbformat": 4,
 "nbformat_minor": 4
}
